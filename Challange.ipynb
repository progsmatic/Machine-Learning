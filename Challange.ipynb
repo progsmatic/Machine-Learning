{
  "nbformat": 4,
  "nbformat_minor": 0,
  "metadata": {
    "colab": {
      "provenance": []
    },
    "kernelspec": {
      "name": "python3",
      "display_name": "Python 3"
    },
    "language_info": {
      "name": "python"
    }
  },
  "cells": [
    {
      "cell_type": "code",
      "execution_count": null,
      "metadata": {
        "colab": {
          "base_uri": "https://localhost:8080/"
        },
        "id": "46L0lO4bXPdP",
        "outputId": "49acee66-be07-49c3-bece-3dbca4a9d499"
      },
      "outputs": [
        {
          "name": "stdout",
          "output_type": "stream",
          "text": [
            "===== MENU =====\n",
            "1. K-means Clustering\n",
            "2. Collaborative Naive Bayes\n",
            "3. Decision Tree\n",
            "0. Keluar\n",
            "Masukkan pilihan (0-3): 1\n"
          ]
        },
        {
          "output_type": "stream",
          "name": "stderr",
          "text": [
            "/usr/local/lib/python3.10/dist-packages/sklearn/cluster/_kmeans.py:870: FutureWarning: The default value of `n_init` will change from 10 to 'auto' in 1.4. Set the value of `n_init` explicitly to suppress the warning\n",
            "  warnings.warn(\n"
          ]
        },
        {
          "name": "stdout",
          "output_type": "stream",
          "text": [
            "K-means Clustering Selesai\n",
            "{'Pelanggan 1': 1, 'Pelanggan 2': 0, 'Pelanggan 3': 1, 'Pelanggan 4': 2, 'Pelanggan 5': 2, 'Pelanggan 6': 1, 'Pelanggan 7': 0, 'Pelanggan 8': 0, 'Pelanggan 9': 2, 'Pelanggan 10': 2, 'Pelanggan 11': 0, 'Pelanggan 12': 0, 'Pelanggan 13': 2, 'Pelanggan 14': 1, 'Pelanggan 15': 1, 'Pelanggan 16': 2, 'Pelanggan 17': 1, 'Pelanggan 18': 0, 'Pelanggan 19': 0, 'Pelanggan 20': 0, 'Pelanggan 21': 2, 'Pelanggan 22': 0, 'Pelanggan 23': 0, 'Pelanggan 24': 0, 'Pelanggan 25': 2, 'Pelanggan 26': 1, 'Pelanggan 27': 2, 'Pelanggan 28': 1, 'Pelanggan 29': 1, 'Pelanggan 30': 1, 'Pelanggan 31': 2, 'Pelanggan 32': 0, 'Pelanggan 33': 2, 'Pelanggan 34': 1, 'Pelanggan 35': 0, 'Pelanggan 36': 2, 'Pelanggan 37': 0, 'Pelanggan 38': 2, 'Pelanggan 39': 2, 'Pelanggan 40': 2, 'Pelanggan 41': 2, 'Pelanggan 42': 2, 'Pelanggan 43': 1, 'Pelanggan 44': 2, 'Pelanggan 45': 1, 'Pelanggan 46': 1, 'Pelanggan 47': 1, 'Pelanggan 48': 0, 'Pelanggan 49': 2, 'Pelanggan 50': 1, 'Pelanggan 51': 0, 'Pelanggan 52': 2, 'Pelanggan 53': 1, 'Pelanggan 54': 2, 'Pelanggan 55': 2, 'Pelanggan 56': 1, 'Pelanggan 57': 1, 'Pelanggan 58': 2, 'Pelanggan 59': 1, 'Pelanggan 60': 1, 'Pelanggan 61': 2, 'Pelanggan 62': 2, 'Pelanggan 63': 0, 'Pelanggan 64': 2, 'Pelanggan 65': 0, 'Pelanggan 66': 0, 'Pelanggan 67': 0, 'Pelanggan 68': 1, 'Pelanggan 69': 0, 'Pelanggan 70': 2, 'Pelanggan 71': 2, 'Pelanggan 72': 2, 'Pelanggan 73': 1, 'Pelanggan 74': 2, 'Pelanggan 75': 0, 'Pelanggan 76': 2, 'Pelanggan 77': 0, 'Pelanggan 78': 2, 'Pelanggan 79': 2, 'Pelanggan 80': 0, 'Pelanggan 81': 0, 'Pelanggan 82': 0, 'Pelanggan 83': 0, 'Pelanggan 84': 1, 'Pelanggan 85': 1, 'Pelanggan 86': 2, 'Pelanggan 87': 0, 'Pelanggan 88': 1, 'Pelanggan 89': 2, 'Pelanggan 90': 0, 'Pelanggan 91': 0, 'Pelanggan 92': 0, 'Pelanggan 93': 1, 'Pelanggan 94': 1, 'Pelanggan 95': 2, 'Pelanggan 96': 2, 'Pelanggan 97': 0, 'Pelanggan 98': 0, 'Pelanggan 99': 1, 'Pelanggan 100': 0}\n",
            "===== MENU =====\n",
            "1. K-means Clustering\n",
            "2. Collaborative Naive Bayes\n",
            "3. Decision Tree\n",
            "0. Keluar\n",
            "Masukkan pilihan (0-3): 2\n"
          ]
        },
        {
          "output_type": "stream",
          "name": "stderr",
          "text": [
            "/usr/local/lib/python3.10/dist-packages/sklearn/cluster/_kmeans.py:870: FutureWarning: The default value of `n_init` will change from 10 to 'auto' in 1.4. Set the value of `n_init` explicitly to suppress the warning\n",
            "  warnings.warn(\n"
          ]
        },
        {
          "name": "stdout",
          "output_type": "stream",
          "text": [
            "Collaborative Naive Bayes Selesai\n",
            "{0: ['Perawatan Kesehatan', 'Perawatan Kesehatan', 'Makanan', 'Makanan', 'Makanan', 'Perawatan Kesehatan', 'Makanan', 'Elektronik', 'Elektronik', 'Perawatan Kesehatan', 'Makanan', 'Elektronik', 'Elektronik', 'Perawatan Kesehatan', 'Makanan', 'Perawatan Kesehatan', 'Perawatan Kesehatan', 'Perawatan Kesehatan', 'Elektronik', 'Elektronik', 'Makanan', 'Perawatan Kesehatan', 'Elektronik', 'Makanan', 'Elektronik', 'Elektronik', 'Makanan', 'Makanan', 'Makanan'], 2: ['Elektronik', 'Elektronik', 'Makanan', 'Perawatan Kesehatan', 'Perawatan Kesehatan', 'Makanan', 'Makanan', 'Makanan', 'Makanan', 'Perawatan Kesehatan', 'Elektronik', 'Elektronik', 'Perawatan Kesehatan', 'Perawatan Kesehatan', 'Makanan', 'Makanan', 'Elektronik', 'Perawatan Kesehatan', 'Elektronik', 'Makanan', 'Perawatan Kesehatan', 'Perawatan Kesehatan', 'Makanan', 'Perawatan Kesehatan', 'Perawatan Kesehatan', 'Makanan', 'Perawatan Kesehatan', 'Makanan', 'Perawatan Kesehatan', 'Elektronik', 'Perawatan Kesehatan', 'Elektronik', 'Elektronik', 'Makanan'], 1: ['Elektronik', 'Perawatan Kesehatan', 'Perawatan Kesehatan', 'Perawatan Kesehatan', 'Makanan', 'Perawatan Kesehatan', 'Makanan', 'Elektronik', 'Elektronik', 'Perawatan Kesehatan', 'Elektronik', 'Makanan', 'Perawatan Kesehatan', 'Perawatan Kesehatan', 'Elektronik', 'Makanan', 'Perawatan Kesehatan', 'Perawatan Kesehatan', 'Makanan', 'Perawatan Kesehatan', 'Elektronik', 'Makanan', 'Makanan', 'Perawatan Kesehatan', 'Elektronik', 'Makanan', 'Perawatan Kesehatan', 'Perawatan Kesehatan', 'Perawatan Kesehatan', 'Perawatan Kesehatan', 'Makanan', 'Makanan', 'Makanan', 'Makanan', 'Elektronik', 'Makanan', 'Perawatan Kesehatan']}\n",
            "===== MENU =====\n",
            "1. K-means Clustering\n",
            "2. Collaborative Naive Bayes\n",
            "3. Decision Tree\n",
            "0. Keluar\n",
            "Masukkan pilihan (0-3): 3\n"
          ]
        },
        {
          "output_type": "stream",
          "name": "stderr",
          "text": [
            "/usr/local/lib/python3.10/dist-packages/sklearn/cluster/_kmeans.py:870: FutureWarning: The default value of `n_init` will change from 10 to 'auto' in 1.4. Set the value of `n_init` explicitly to suppress the warning\n",
            "  warnings.warn(\n"
          ]
        },
        {
          "output_type": "stream",
          "name": "stdout",
          "text": [
            "Pohon Keputusan Selesai\n",
            "Struktur Pohon Keputusan:\n",
            "|--- Cluster <= 1.50\n",
            "|   |--- Cluster <= 0.50\n",
            "|   |   |--- class: Perawatan Kesehatan\n",
            "|   |--- Cluster >  0.50\n",
            "|   |   |--- class: Perawatan Kesehatan\n",
            "|--- Cluster >  1.50\n",
            "|   |--- class: Makanan\n",
            "\n",
            "===== MENU =====\n",
            "1. K-means Clustering\n",
            "2. Collaborative Naive Bayes\n",
            "3. Decision Tree\n",
            "0. Keluar\n"
          ]
        }
      ],
      "source": [
        "import numpy as np\n",
        "from sklearn.cluster import KMeans\n",
        "from sklearn.naive_bayes import MultinomialNB\n",
        "from sklearn.tree import DecisionTreeClassifier\n",
        "from sklearn.feature_extraction import DictVectorizer\n",
        "from sklearn.tree import export_text\n",
        "\n",
        "\n",
        "# Generate random customer data\n",
        "customer_data = {}\n",
        "np.random.seed(42)  # Set a seed for reproducibility\n",
        "\n",
        "for i in range(1, 101):\n",
        "    customer = f\"Pelanggan {i}\"\n",
        "    age = np.random.randint(18, 65)\n",
        "    gender = np.random.choice([\"Laki-laki\", \"Perempuan\"])\n",
        "    income = np.random.randint(2000, 10000)\n",
        "    purchase_category = np.random.choice([\"Elektronik\", \"Makanan\", \"Perawatan Kesehatan\"])\n",
        "\n",
        "    customer_data[customer] = {\n",
        "        \"usia\": age,\n",
        "        \"jenis_kelamin\": gender,\n",
        "        \"pendapatan\": income,\n",
        "        \"kategori_pembelian\": purchase_category\n",
        "    }\n",
        "\n",
        "\n",
        "# Melakukan k-means clustering\n",
        "def kmeans_clustering():\n",
        "    X = []\n",
        "    for customer, attributes in customer_data.items():\n",
        "        X.append([attributes[\"usia\"], attributes[\"pendapatan\"]])\n",
        "\n",
        "    kmeans = KMeans(n_clusters=3)\n",
        "    kmeans.fit(X)\n",
        "\n",
        "    customer_clusters = {}\n",
        "    for i, customer in enumerate(customer_data.keys()):\n",
        "        customer_clusters[customer] = kmeans.labels_[i]\n",
        "\n",
        "    return customer_clusters\n",
        "\n",
        "\n",
        "# Melakukan analisis pembelian dengan kolaborasi Naive Bayes\n",
        "def analyze_purchases(customer_clusters):\n",
        "    X = []\n",
        "    y = []\n",
        "    for customer, attributes in customer_data.items():\n",
        "        X.append(attributes)\n",
        "        cluster = customer_clusters[customer]\n",
        "        y.append(attributes[\"kategori_pembelian\"])\n",
        "\n",
        "    vectorizer = DictVectorizer()\n",
        "    X_transformed = vectorizer.fit_transform(X)\n",
        "    naive_bayes = MultinomialNB()\n",
        "    naive_bayes.fit(X_transformed, y)\n",
        "\n",
        "    cluster_purchases = {}\n",
        "    for customer, attributes in customer_data.items():\n",
        "        cluster = customer_clusters[customer]\n",
        "        purchase_category = attributes[\"kategori_pembelian\"]\n",
        "        if cluster not in cluster_purchases:\n",
        "            cluster_purchases[cluster] = []\n",
        "        cluster_purchases[cluster].append(purchase_category)\n",
        "\n",
        "    return cluster_purchases\n",
        "\n",
        "\n",
        "# Membangun pohon keputusan berdasarkan hasil analisis\n",
        "def build_decision_tree(cluster_purchases):\n",
        "    X = []\n",
        "    y = []\n",
        "    for cluster, purchases in cluster_purchases.items():\n",
        "        for purchase in purchases:\n",
        "            X.append(cluster)\n",
        "            y.append(purchase)\n",
        "\n",
        "    decision_tree = DecisionTreeClassifier()\n",
        "    decision_tree.fit(np.array(X).reshape(-1, 1), y)\n",
        "\n",
        "    return decision_tree\n",
        "\n",
        "\n",
        "# Melakukan prediksi pengiriman paket berdasarkan pohon keputusan\n",
        "def predict_delivery(customer, purchase_category, decision_tree):\n",
        "    prediction = decision_tree.predict([[customer_clusters[customer]]])\n",
        "\n",
        "    print(f\"Prediksi pengiriman paket untuk {customer} dengan pembelian kategori {purchase_category}: {prediction[0]}\")\n",
        "\n",
        "\n",
        "# Menampilkan struktur pohon keputusan\n",
        "def display_decision_tree(decision_tree):\n",
        "    tree_text = export_text(decision_tree, feature_names=[\"Cluster\"])\n",
        "    print(\"Struktur Pohon Keputusan:\")\n",
        "    print(tree_text)\n",
        "\n",
        "\n",
        "# Main menu function\n",
        "def main_menu():\n",
        "    while True:\n",
        "        print(\"===== MENU =====\")\n",
        "        print(\"1. K-means Clustering\")\n",
        "        print(\"2. Collaborative Naive Bayes\")\n",
        "        print(\"3. Decision Tree\")\n",
        "        print(\"0. Keluar\")\n",
        "        choice = input(\"Masukkan pilihan (0-3): \")\n",
        "\n",
        "        if choice == \"1\":\n",
        "            customer_clusters = kmeans_clustering()\n",
        "            print(\"K-means Clustering Selesai\")\n",
        "            print(customer_clusters)\n",
        "        elif choice == \"2\":\n",
        "            customer_clusters = kmeans_clustering()\n",
        "            cluster_purchases = analyze_purchases(customer_clusters)\n",
        "            print(\"Collaborative Naive Bayes Selesai\")\n",
        "            print(cluster_purchases)\n",
        "        elif choice == \"3\":\n",
        "            customer_clusters = kmeans_clustering()\n",
        "            cluster_purchases = analyze_purchases(customer_clusters)\n",
        "            decision_tree = build_decision_tree(cluster_purchases)\n",
        "            print(\"Pohon Keputusan Selesai\")\n",
        "            display_decision_tree(decision_tree)\n",
        "        elif choice == \"0\":\n",
        "            print(\"Terima kasih!\")\n",
        "            break\n",
        "        else:\n",
        "            print(\"Pilihan tidak valid. Silakan coba lagi.\")\n",
        "\n",
        "\n",
        "# Run the main menu\n",
        "main_menu()\n"
      ]
    }
  ]
}